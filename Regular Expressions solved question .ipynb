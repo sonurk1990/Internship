{
 "cells": [
  {
   "cell_type": "markdown",
   "id": "bb66ffb1",
   "metadata": {},
   "source": [
    "# Question 1- Write a Python program to replace all occurrences of a space, comma, or dot with a colon.\n",
    "Sample Text- 'Python Exercises, PHP exercises.'\n",
    "\n",
    "Expected Output: Python:Exercises::PHP:exercises:"
   ]
  },
  {
   "cell_type": "code",
   "execution_count": 6,
   "id": "60829eb0",
   "metadata": {},
   "outputs": [
    {
     "name": "stdout",
     "output_type": "stream",
     "text": [
      "Python:Exercises::PHP:exercises:\n"
     ]
    }
   ],
   "source": [
    "def replace_characters(text):\n",
    "    replacements = {' ': ':', ',': ':', '.': ':'}\n",
    "    for old_char, new_char in replacements.items():\n",
    "        text = text.replace(old_char, new_char)\n",
    "    return text\n",
    "\n",
    "sample_text = 'Python Exercises, PHP exercises.'\n",
    "result = replace_characters(sample_text)\n",
    "print(result)"
   ]
  },
  {
   "cell_type": "markdown",
   "id": "d5635e6e",
   "metadata": {},
   "source": [
    "# Question 2-  Write a Python program to find all words starting with 'a' or 'e' in a given string"
   ]
  },
  {
   "cell_type": "code",
   "execution_count": 3,
   "id": "60c96830",
   "metadata": {},
   "outputs": [
    {
     "name": "stdout",
     "output_type": "stream",
     "text": [
      "['Apples', 'and', 'are', 'enjoyable']\n"
     ]
    }
   ],
   "source": [
    "import re\n",
    "\n",
    "def find_words_starting_with_a_or_e(text):\n",
    "    words = re.findall(r'\\b[aeAE]\\w+\\b', text)\n",
    "    return words\n",
    "\n",
    "sample_text = \"Apples and oranges are enjoyable fruits.\"\n",
    "result = find_words_starting_with_a_or_e(sample_text)\n",
    "print(result)"
   ]
  },
  {
   "cell_type": "markdown",
   "id": "3b7eceb2",
   "metadata": {},
   "source": [
    "# Question 3- Create a function in python to find all words that are at least 4 characters long in a string. The use of the re.compile() method is mandatory.\n"
   ]
  },
  {
   "cell_type": "code",
   "execution_count": 4,
   "id": "9c9ca584",
   "metadata": {},
   "outputs": [
    {
     "name": "stdout",
     "output_type": "stream",
     "text": [
      "['This', 'sample', 'text', 'with', 'various', 'words', 'different', 'lengths']\n"
     ]
    }
   ],
   "source": [
    "import re\n",
    "\n",
    "def find_long_words(text):\n",
    "    pattern = re.compile(r'\\b\\w{4,}\\b')\n",
    "    words = pattern.findall(text)\n",
    "    return words\n",
    "\n",
    "sample_text = \"This is a sample text with various words of different lengths.\"\n",
    "result = find_long_words(sample_text)\n",
    "print(result)"
   ]
  },
  {
   "cell_type": "markdown",
   "id": "aa7df4ad",
   "metadata": {},
   "source": [
    "# Question 4- Create a function in python to find all three, four, and five character words in a string. The use of the re.compile() method is mandatory."
   ]
  },
  {
   "cell_type": "code",
   "execution_count": 5,
   "id": "99e27f74",
   "metadata": {},
   "outputs": [
    {
     "name": "stdout",
     "output_type": "stream",
     "text": [
      "['This', 'text', 'with', 'words']\n"
     ]
    }
   ],
   "source": [
    "import re\n",
    "\n",
    "def find_words_by_length(text, min_length, max_length):\n",
    "    # Step 1: Compile the regular expression pattern\n",
    "    pattern = re.compile(r'\\b\\w{' + str(min_length) + ',' + str(max_length) + r'}\\b')\n",
    "    \n",
    "    # Step 2: Find all matches using the pattern\n",
    "    words = pattern.findall(text)\n",
    "    \n",
    "    return words\n",
    "\n",
    "# Sample text\n",
    "sample_text = \"This is a sample text with words of varying lengths.\"\n",
    "\n",
    "# Step 3: Call the function with the desired minimum and maximum word lengths\n",
    "result = find_words_by_length(sample_text, 3, 5)\n",
    "\n",
    "# Step 4: Print the result\n",
    "print(result)\n"
   ]
  },
  {
   "cell_type": "markdown",
   "id": "83e4aefd",
   "metadata": {},
   "source": [
    "# Question 5- Create a function in Python to remove the parenthesis in a list of strings. The use of the re.compile() method is mandatory.\n",
    "Sample Text: [\"example (.com)\", \"hr@fliprobo (.com)\", \"github (.com)\", \"Hello (Data Science World)\", \"Data (Scientist)\"]\n",
    "\n",
    "Expected Output:\n",
    "\n",
    "example.com\n",
    "\n",
    "hr@fliprobo.com\n",
    "\n",
    "github.com\n",
    "\n",
    "Hello Data Science World\n",
    "\n",
    "Data Scientist\n",
    "\n"
   ]
  },
  {
   "cell_type": "code",
   "execution_count": 6,
   "id": "4e02d9a3",
   "metadata": {},
   "outputs": [
    {
     "name": "stdout",
     "output_type": "stream",
     "text": [
      "example\n",
      "hr@fliprobo\n",
      "github\n",
      "Hello\n",
      "Data\n"
     ]
    }
   ],
   "source": [
    "import re\n",
    "\n",
    "def remove_parentheses(strings):\n",
    "    # Step 1: Compile the regular expression pattern\n",
    "    pattern = re.compile(r'\\s?\\(.*\\)')\n",
    "    \n",
    "    # Step 2: Create a new list to store the modified strings\n",
    "    new_strings = []\n",
    "    \n",
    "    # Step 3: Iterate through each string in the input list\n",
    "    for string in strings:\n",
    "        # Step 4: Replace the matched pattern with an empty string\n",
    "        new_string = pattern.sub('', string)\n",
    "        new_strings.append(new_string)\n",
    "    \n",
    "    return new_strings\n",
    "\n",
    "# Sample text\n",
    "sample_text = [\"example (.com)\", \"hr@fliprobo (.com)\", \"github (.com)\", \"Hello (Data Science World)\", \"Data (Scientist)\"]\n",
    "\n",
    "# Step 5: Call the function with the sample text\n",
    "result = remove_parentheses(sample_text)\n",
    "\n",
    "# Step 6: Print the result\n",
    "for item in result:\n",
    "    print(item)\n"
   ]
  },
  {
   "cell_type": "markdown",
   "id": "14bc18a8",
   "metadata": {},
   "source": [
    "# Question 6- Write a python program to remove the parenthesis area from the text stored in the text file using Regular Expression.\n",
    "Sample Text: [\"example (.com)\", \"hr@fliprobo (.com)\", \"github (.com)\", \"Hello (Data Science World)\", \"Data (Scientist)\"]\n",
    "\n",
    "Expected Output: [\"example\", \"hr@fliprobo\", \"github\", \"Hello\", \"Data\"]\n",
    "\n",
    "Note- Store given sample text in the text file and then to remove the parenthesis area from the text.\n"
   ]
  },
  {
   "cell_type": "code",
   "execution_count": 3,
   "id": "b60b3c53",
   "metadata": {},
   "outputs": [
    {
     "name": "stdout",
     "output_type": "stream",
     "text": [
      "['example ', 'hr@fliprobo ', 'github ', 'Hello ', 'Data ']\n"
     ]
    }
   ],
   "source": [
    "import re\n",
    "\n",
    "sample_text = [\"example (.com)\", \"hr@fliprobo (.com)\", \"github (.com)\", \"Hello (Data Science World)\", \"Data (Scientist)\"]\n",
    "\n",
    "# Remove content within parentheses using regular expressions\n",
    "pattern = re.compile(r'\\([^)]*\\)')\n",
    "output_list = [pattern.sub('', text) for text in sample_text]\n",
    "\n",
    "# Print the expected output\n",
    "print(output_list)"
   ]
  },
  {
   "cell_type": "markdown",
   "id": "f8459cee",
   "metadata": {},
   "source": [
    "# Question 7- Write a regular expression in Python to split a string into uppercase letters.\n",
    "\n",
    "Sample text: “ImportanceOfRegularExpressionsInPython”\n",
    "\n",
    "Expected Output: [‘Importance’, ‘Of’, ‘Regular’, ‘Expression’, ‘In’, ‘Python’]"
   ]
  },
  {
   "cell_type": "code",
   "execution_count": 4,
   "id": "664de30d",
   "metadata": {},
   "outputs": [
    {
     "name": "stdout",
     "output_type": "stream",
     "text": [
      "['Importance', 'Of', 'Regular', 'Expressions', 'In', 'Python']\n"
     ]
    }
   ],
   "source": [
    "import re\n",
    "\n",
    "sample_text = \"ImportanceOfRegularExpressionsInPython\"\n",
    "\n",
    "# Split the string into uppercase words using regular expression\n",
    "result = re.findall(r'[A-Z][a-z]*', sample_text)\n",
    "\n",
    "# Print the expected output\n",
    "print(result)"
   ]
  },
  {
   "cell_type": "markdown",
   "id": "30179240",
   "metadata": {},
   "source": [
    "# Question 8- Create a function in python to insert spaces between words starting with numbers.\n",
    "\n",
    "Sample Text: “RegularExpression1IsAn2ImportantTopic3InPython\"\n",
    "\n",
    "Expected Output: RegularExpression 1IsAn 2ImportantTopic 3InPython\n"
   ]
  },
  {
   "cell_type": "code",
   "execution_count": 5,
   "id": "ebfec6b0",
   "metadata": {},
   "outputs": [
    {
     "name": "stdout",
     "output_type": "stream",
     "text": [
      "RegularExpression1 IsAn2 ImportantTopic3 InPython\n"
     ]
    }
   ],
   "source": [
    "import re\n",
    "\n",
    "def insert_spaces_between_numbers(text):\n",
    "    result = re.sub(r'(?<=[0-9])(?=[A-Za-z])', ' ', text)\n",
    "    return result\n",
    "\n",
    "sample_text = \"RegularExpression1IsAn2ImportantTopic3InPython\"\n",
    "output = insert_spaces_between_numbers(sample_text)\n",
    "print(output)"
   ]
  },
  {
   "cell_type": "markdown",
   "id": "334c5379",
   "metadata": {},
   "source": [
    "# Question 9- Create a function in python to insert spaces between words starting with capital letters or with numbers.\n",
    "\n",
    "Sample Text: “RegularExpression1IsAn2ImportantTopic3InPython\"\n",
    "\n",
    "Expected Output:  RegularExpression 1 IsAn 2 ImportantTopic 3 InPython\n"
   ]
  },
  {
   "cell_type": "code",
   "execution_count": 8,
   "id": "d3f82d8d",
   "metadata": {},
   "outputs": [
    {
     "name": "stdout",
     "output_type": "stream",
     "text": [
      "RegularExpression1 IsAn2 ImportantTopic3 InPython\n"
     ]
    }
   ],
   "source": [
    "text9 = 'RegularExpression1IsAn2ImportantTopic3InPython'\n",
    "result9 = re.sub(r'(?<=[A-Z0-9])(?=[A-Z])', ' ', text9)\n",
    "print(result9)"
   ]
  },
  {
   "cell_type": "markdown",
   "id": "8d46cc58",
   "metadata": {},
   "source": [
    "# Question 10- Write a python program to extract email address from the text stored in the text file using Regular Expression.\n",
    "\n",
    "Sample Text- Hello my name is Data Science and my email address is\n",
    "xyz@domain.com and alternate email address is \n",
    "xyz.abc@sdomain.domain.com. \n",
    "\n",
    "Please contact us at hr@fliprobo.com for further information. \n",
    "\n",
    "Output: \n",
    "['xyz@domain.com', 'xyz.abc@sdomain.domain.com']\n",
    "['hr@fliprobo.com']\n",
    "\n",
    "Note- Store given sample text in the text file and then extract email addresses."
   ]
  },
  {
   "cell_type": "code",
   "execution_count": 11,
   "id": "618a3c4c",
   "metadata": {},
   "outputs": [
    {
     "name": "stdout",
     "output_type": "stream",
     "text": [
      "['xyz@domain.com', 'xyz.abc@sdomain.domain.com', 'hr@fliprobo.com']\n"
     ]
    }
   ],
   "source": [
    "import re\n",
    "\n",
    "sample_text = (\"Hello my name is Data Science and my email address is xyz@domain.com \"\n",
    "               \"and alternate email address is xyz.abc@sdomain.domain.com.\\n\"\n",
    "               \"Please contact us at hr@fliprobo.com for further information.\")\n",
    "\n",
    "# Extract email addresses using regular expression\n",
    "email_pattern = r'\\b[A-Za-z0-9._%+-]+@[A-Za-z0-9.-]+\\.[A-Z|a-z]{2,7}\\b'\n",
    "email_addresses = re.findall(email_pattern, sample_text)\n",
    "\n",
    "# Print the extracted email addresses\n",
    "print(email_addresses)"
   ]
  },
  {
   "cell_type": "markdown",
   "id": "d5bc7e04",
   "metadata": {},
   "source": [
    "# Question 11- Write a Python program to match a string that contains only upper and lowercase letters, numbers, and underscores"
   ]
  },
  {
   "cell_type": "code",
   "execution_count": 12,
   "id": "7f394f20",
   "metadata": {},
   "outputs": [
    {
     "name": "stdout",
     "output_type": "stream",
     "text": [
      "Hello123 is a valid string.\n",
      "Python_2021 is a valid string.\n",
      "Valid_String is a valid string.\n",
      "Invalid@String is an invalid string.\n",
      "123_456 is a valid string.\n"
     ]
    }
   ],
   "source": [
    "import re\n",
    "\n",
    "def is_valid_string(text):\n",
    "    pattern = re.compile(r'^[A-Za-z0-9_]+$')\n",
    "    return bool(pattern.match(text))\n",
    "\n",
    "# Test cases\n",
    "test_strings = [\"Hello123\", \"Python_2021\", \"Valid_String\", \"Invalid@String\", \"123_456\"]\n",
    "for string in test_strings:\n",
    "    if is_valid_string(string):\n",
    "        print(f\"{string} is a valid string.\")\n",
    "    else:\n",
    "        print(f\"{string} is an invalid string.\")"
   ]
  },
  {
   "cell_type": "markdown",
   "id": "836bba7f",
   "metadata": {},
   "source": [
    "# Question 12- Write a Python program where a string will start with a specific number. "
   ]
  },
  {
   "cell_type": "code",
   "execution_count": 13,
   "id": "0f59555a",
   "metadata": {},
   "outputs": [
    {
     "name": "stdout",
     "output_type": "stream",
     "text": [
      "123abc does not start with 456.\n",
      "456xyz starts with 456.\n",
      "789abc does not start with 456.\n",
      "012xyz does not start with 456.\n"
     ]
    }
   ],
   "source": [
    "def starts_with_number(string, number):\n",
    "    return string.startswith(str(number))\n",
    "\n",
    "# Test cases\n",
    "test_strings = [\"123abc\", \"456xyz\", \"789abc\", \"012xyz\"]\n",
    "specific_number = 456\n",
    "\n",
    "for string in test_strings:\n",
    "    if starts_with_number(string, specific_number):\n",
    "        print(f\"{string} starts with {specific_number}.\")\n",
    "    else:\n",
    "        print(f\"{string} does not start with {specific_number}.\")"
   ]
  },
  {
   "cell_type": "markdown",
   "id": "847adfae",
   "metadata": {},
   "source": [
    "# Question 13- Write a Python program to remove leading zeros from an IP address"
   ]
  },
  {
   "cell_type": "code",
   "execution_count": 14,
   "id": "238a9307",
   "metadata": {},
   "outputs": [
    {
     "name": "stdout",
     "output_type": "stream",
     "text": [
      "Original IP: 192.168.001.001, Cleaned IP: 192.168.1.1\n",
      "Original IP: 10.001.002.003, Cleaned IP: 10.1.2.3\n",
      "Original IP: 001.001.001.001, Cleaned IP: 1.1.1.1\n",
      "Original IP: 0.0.0.0, Cleaned IP: 0.0.0.0\n"
     ]
    }
   ],
   "source": [
    "def remove_leading_zeros(ip_address):\n",
    "    components = ip_address.split('.')\n",
    "    cleaned_components = [str(int(component)) for component in components]\n",
    "    cleaned_ip_address = '.'.join(cleaned_components)\n",
    "    return cleaned_ip_address\n",
    "\n",
    "# Test cases\n",
    "ip_addresses = [\"192.168.001.001\", \"10.001.002.003\", \"001.001.001.001\", \"0.0.0.0\"]\n",
    "\n",
    "for ip_address in ip_addresses:\n",
    "    cleaned_ip = remove_leading_zeros(ip_address)\n",
    "    print(f\"Original IP: {ip_address}, Cleaned IP: {cleaned_ip}\")"
   ]
  },
  {
   "cell_type": "markdown",
   "id": "e46e2aef",
   "metadata": {},
   "source": [
    "# Question 14- Write a regular expression in python to match a date string in the form of Month name followed by day number and year stored in a text file.\n",
    "\n",
    "Sample text :  ' On August 15th 1947 that India was declared independent from British colonialism, and the reins of control were handed over to the leaders of the Country’.\n",
    "\n",
    "Expected Output- August 15th 1947\n",
    "\n",
    "Note- Store given sample text in the text file and then extract the date string asked format.\n"
   ]
  },
  {
   "cell_type": "code",
   "execution_count": 17,
   "id": "d0bb08e3",
   "metadata": {},
   "outputs": [
    {
     "name": "stdout",
     "output_type": "stream",
     "text": [
      "August 15th 1947\n"
     ]
    }
   ],
   "source": [
    "import re\n",
    "\n",
    "sample_text = \"On August 15th 1947 that India was declared independent from British colonialism, and the reins of control were handed over to the leaders of the Country.\"\n",
    "\n",
    "# Regular expression pattern to match the date format\n",
    "date_pattern = r'\\b[A-Z][a-z]+\\s\\d{1,2}(?:st|nd|rd|th)?\\s\\d{4}\\b'\n",
    "\n",
    "# Find all matches in the sample text\n",
    "matches = re.findall(date_pattern, sample_text)\n",
    "\n",
    "# Print the matches\n",
    "for match in matches:\n",
    "    print(match)"
   ]
  },
  {
   "cell_type": "markdown",
   "id": "129f7417",
   "metadata": {},
   "source": [
    "# Question 15- Write a Python program to search some literals strings in a string. \n",
    "\n",
    "Sample text : 'The quick brown fox jumps over the lazy dog.'\n",
    "\n",
    "Searched words : 'fox', 'dog', 'horse'\n"
   ]
  },
  {
   "cell_type": "code",
   "execution_count": 18,
   "id": "34efec5b",
   "metadata": {},
   "outputs": [
    {
     "name": "stdout",
     "output_type": "stream",
     "text": [
      "'fox' found in the text.\n",
      "'dog' found in the text.\n",
      "'horse' not found in the text.\n"
     ]
    }
   ],
   "source": [
    "sample_text = 'The quick brown fox jumps over the lazy dog.'\n",
    "searched_words = ['fox', 'dog', 'horse']\n",
    "\n",
    "# Search for each word in the list\n",
    "for word in searched_words:\n",
    "    if word in sample_text:\n",
    "        print(f\"'{word}' found in the text.\")\n",
    "    else:\n",
    "        print(f\"'{word}' not found in the text.\")"
   ]
  },
  {
   "cell_type": "markdown",
   "id": "4e4adae4",
   "metadata": {},
   "source": [
    "# Question 16- Write a Python program to search a literals string in a string and also find the location within the original string where the pattern occurs\n",
    "\n",
    "Sample text : 'The quick brown fox jumps over the lazy dog.'\n",
    "\n",
    "Searched words : 'fox'\n"
   ]
  },
  {
   "cell_type": "code",
   "execution_count": 19,
   "id": "196cc671",
   "metadata": {},
   "outputs": [
    {
     "name": "stdout",
     "output_type": "stream",
     "text": [
      "'fox' found in the text at index 16-19.\n"
     ]
    }
   ],
   "source": [
    "sample_text = 'The quick brown fox jumps over the lazy dog.'\n",
    "searched_word = 'fox'\n",
    "\n",
    "# Search for the word and find its location\n",
    "start_index = sample_text.find(searched_word)\n",
    "end_index = start_index + len(searched_word)\n",
    "\n",
    "if start_index != -1:\n",
    "    print(f\"'{searched_word}' found in the text at index {start_index}-{end_index}.\")\n",
    "else:\n",
    "    print(f\"'{searched_word}' not found in the text.\")"
   ]
  },
  {
   "cell_type": "markdown",
   "id": "a9d211c7",
   "metadata": {},
   "source": [
    "# Question 17- Write a Python program to find the substrings within a string.\n",
    "\n",
    "Sample text : 'Python exercises, PHP exercises, C# exercises'\n",
    "\n",
    "Pattern : 'exercises'."
   ]
  },
  {
   "cell_type": "code",
   "execution_count": 20,
   "id": "0ddf85e5",
   "metadata": {},
   "outputs": [
    {
     "name": "stdout",
     "output_type": "stream",
     "text": [
      "exercises\n",
      "exercises\n",
      "exercises\n"
     ]
    }
   ],
   "source": [
    "import re\n",
    "\n",
    "sample_text = 'Python exercises, PHP exercises, C# exercises'\n",
    "pattern = 'exercises'\n",
    "\n",
    "# Find all occurrences of the pattern within the text\n",
    "matches = re.findall(pattern, sample_text)\n",
    "\n",
    "# Print the matches\n",
    "for match in matches:\n",
    "    print(match)"
   ]
  },
  {
   "cell_type": "markdown",
   "id": "57f34bd7",
   "metadata": {},
   "source": [
    "# Question 18- Write a Python program to find the occurrence and position of the substrings within a string."
   ]
  },
  {
   "cell_type": "markdown",
   "id": "42d0f0c7",
   "metadata": {},
   "source": [
    "# def find_substring_occurrences(text, substring):\n",
    "    occurrences = []\n",
    "    start = 0\n",
    "    while True:\n",
    "        start = text.find(substring, start)\n",
    "        if start == -1:\n",
    "            break\n",
    "        occurrences.append((substring, start))\n",
    "        start += 1\n",
    "    return occurrences\n",
    "\n",
    "sample_text = 'Python exercises, PHP exercises, C# exercises'\n",
    "pattern = 'exercises'\n",
    "\n",
    "# Find occurrences and positions of the pattern within the text\n",
    "substring_occurrences = find_substring_occurrences(sample_text, pattern)\n",
    "\n",
    "# Print the occurrences and positions\n",
    "for substring, position in substring_occurrences:\n",
    "    print(f\"'{substring}' found at position {position}.\")"
   ]
  },
  {
   "cell_type": "markdown",
   "id": "e2ee2ce7",
   "metadata": {},
   "source": [
    "# Question 19- Write a Python program to convert a date of yyyy-mm-dd format to dd-mm-yyyy format."
   ]
  },
  {
   "cell_type": "code",
   "execution_count": 22,
   "id": "8a0c3142",
   "metadata": {},
   "outputs": [
    {
     "name": "stdout",
     "output_type": "stream",
     "text": [
      "Original date: 2023-08-27, Converted date: 27-08-2023\n",
      "Original date: 2021-12-31, Converted date: 31-12-2021\n",
      "Original date: 1990-05-15, Converted date: 15-05-1990\n",
      "Original date: 2022-02-30, Converted date: 30-02-2022\n"
     ]
    }
   ],
   "source": [
    "def convert_date_format(date):\n",
    "    parts = date.split('-')\n",
    "    if len(parts) == 3:\n",
    "        year, month, day = parts\n",
    "        return f\"{day}-{month}-{year}\"\n",
    "    else:\n",
    "        return \"Invalid date format\"\n",
    "\n",
    "# Test cases\n",
    "dates = [\"2023-08-27\", \"2021-12-31\", \"1990-05-15\", \"2022-02-30\"]\n",
    "\n",
    "for date in dates:\n",
    "    new_date = convert_date_format(date)\n",
    "    print(f\"Original date: {date}, Converted date: {new_date}\")"
   ]
  },
  {
   "cell_type": "markdown",
   "id": "9c03e4bc",
   "metadata": {},
   "source": [
    "# Question 20- Create a function in python to find all decimal numbers with a precision of 1 or 2 in a string. The use of the re.compile() method is mandatory.\n",
    "\n",
    "Sample Text: \"01.12 0132.123 2.31875 145.8 3.01 27.25 0.25\"\n",
    "\n",
    "Expected Output: ['01.12', '145.8', '3.01', '27.25', '0.25']\n"
   ]
  },
  {
   "cell_type": "code",
   "execution_count": 23,
   "id": "8d222a07",
   "metadata": {},
   "outputs": [
    {
     "name": "stdout",
     "output_type": "stream",
     "text": [
      "['01.12', '145.8', '3.01', '27.25', '0.25']\n"
     ]
    }
   ],
   "source": [
    "import re\n",
    "\n",
    "def find_decimal_numbers(text):\n",
    "    pattern = re.compile(r'\\b\\d+\\.\\d{1,2}\\b')\n",
    "    matches = pattern.findall(text)\n",
    "    return matches\n",
    "\n",
    "sample_text = \"01.12 0132.123 2.31875 145.8 3.01 27.25 0.25\"\n",
    "decimal_numbers = find_decimal_numbers(sample_text)\n",
    "print(decimal_numbers)"
   ]
  },
  {
   "cell_type": "markdown",
   "id": "46da8fff",
   "metadata": {},
   "source": [
    "# Question 21- Write a Python program to separate and print the numbers and their position of a given string."
   ]
  },
  {
   "cell_type": "code",
   "execution_count": 24,
   "id": "af216a93",
   "metadata": {},
   "outputs": [
    {
     "name": "stdout",
     "output_type": "stream",
     "text": [
      "Number: 123, Position: 6\n",
      "Number: 45.67, Position: 18\n",
      "Number: 8, Position: 35\n"
     ]
    }
   ],
   "source": [
    "def separate_numbers(text):\n",
    "    numbers = []\n",
    "    positions = []\n",
    "    \n",
    "    i = 0\n",
    "    while i < len(text):\n",
    "        if text[i].isdigit():\n",
    "            start = i\n",
    "            while i < len(text) and (text[i].isdigit() or text[i] == '.'):\n",
    "                i += 1\n",
    "            numbers.append(text[start:i])\n",
    "            positions.append(start)\n",
    "        else:\n",
    "            i += 1\n",
    "            \n",
    "    return numbers, positions\n",
    "\n",
    "sample_text = \"Hello 123, I have 45.67 apples and 8 bananas.\"\n",
    "numbers, positions = separate_numbers(sample_text)\n",
    "\n",
    "for num, pos in zip(numbers, positions):\n",
    "    print(f\"Number: {num}, Position: {pos}\")"
   ]
  },
  {
   "cell_type": "markdown",
   "id": "6ec61ae7",
   "metadata": {},
   "source": [
    "# Question 22- Write a regular expression in python program to extract maximum/largest numeric value from a string.\n",
    "\n",
    "Sample Text:  'My marks in each semester are: 947, 896, 926, 524, 734, 950, 642'\n",
    "\n",
    "Expected Output: 950"
   ]
  },
  {
   "cell_type": "code",
   "execution_count": 25,
   "id": "21ffe336",
   "metadata": {},
   "outputs": [
    {
     "name": "stdout",
     "output_type": "stream",
     "text": [
      "950\n"
     ]
    }
   ],
   "source": [
    "import re\n",
    "\n",
    "sample_text = 'My marks in each semester are: 947, 896, 926, 524, 734, 950, 642'\n",
    "\n",
    "# Extract numbers using regular expression\n",
    "numbers = re.findall(r'\\b\\d+\\b', sample_text)\n",
    "\n",
    "# Convert to integers and find the maximum\n",
    "if numbers:\n",
    "    max_number = max(map(int, numbers))\n",
    "    print(max_number)\n",
    "else:\n",
    "    print(\"No numbers found in the text.\")"
   ]
  },
  {
   "cell_type": "markdown",
   "id": "fe3cf257",
   "metadata": {},
   "source": [
    "# Question 23- Create a function in python to insert spaces between words starting with capital letters.\n",
    "\n",
    "Sample Text: “RegularExpressionIsAnImportantTopicInPython\"\n",
    "\n",
    "Expected Output: Regular Expression Is An Important Topic In Python\n"
   ]
  },
  {
   "cell_type": "code",
   "execution_count": 26,
   "id": "60c6bd7f",
   "metadata": {},
   "outputs": [
    {
     "name": "stdout",
     "output_type": "stream",
     "text": [
      "Regular Expression Is An Important Topic In Python\n"
     ]
    }
   ],
   "source": [
    "import re\n",
    "\n",
    "def insert_spaces_between_capital_words(text):\n",
    "    result = re.sub(r'([a-z])([A-Z])', r'\\1 \\2', text)\n",
    "    return result\n",
    "\n",
    "sample_text = \"RegularExpressionIsAnImportantTopicInPython\"\n",
    "output = insert_spaces_between_capital_words(sample_text)\n",
    "print(output)"
   ]
  },
  {
   "cell_type": "markdown",
   "id": "ea7408ef",
   "metadata": {},
   "source": [
    "# Question 24- Python regex to find sequences of one upper case letter followed by lower case letters"
   ]
  },
  {
   "cell_type": "code",
   "execution_count": 27,
   "id": "ddeb5fb0",
   "metadata": {},
   "outputs": [
    {
     "name": "stdout",
     "output_type": "stream",
     "text": [
      "['The', 'Quick', 'Fox', 'Lazy']\n"
     ]
    }
   ],
   "source": [
    "import re\n",
    "\n",
    "text = \"The Quick brown Fox jumps over the Lazy dogs.\"\n",
    "\n",
    "pattern = r'[A-Z][a-z]+'\n",
    "matches = re.findall(pattern, text)\n",
    "\n",
    "print(matches)"
   ]
  },
  {
   "cell_type": "markdown",
   "id": "0e55e726",
   "metadata": {},
   "source": [
    "# Question 25- Write a Python program to remove continuous duplicate words from Sentence using Regular Expression.\n",
    "\n",
    "Sample Text: \"Hello hello world world\"\n",
    "\n",
    "Expected Output: Hello hello world\n"
   ]
  },
  {
   "cell_type": "code",
   "execution_count": 28,
   "id": "6830ee2f",
   "metadata": {},
   "outputs": [
    {
     "name": "stdout",
     "output_type": "stream",
     "text": [
      "Hello hello world\n"
     ]
    }
   ],
   "source": [
    "import re\n",
    "\n",
    "def remove_continuous_duplicates(sentence):\n",
    "    pattern = r'\\b(\\w+)\\s+\\1\\b'\n",
    "    result = re.sub(pattern, r'\\1', sentence)\n",
    "    return result\n",
    "\n",
    "sample_text = \"Hello hello world world\"\n",
    "output = remove_continuous_duplicates(sample_text)\n",
    "print(output)"
   ]
  },
  {
   "cell_type": "markdown",
   "id": "145c77fd",
   "metadata": {},
   "source": [
    "# Question 26-  Write a python program using RegEx to accept string ending with alphanumeric character.\n"
   ]
  },
  {
   "cell_type": "code",
   "execution_count": 29,
   "id": "7983811d",
   "metadata": {},
   "outputs": [
    {
     "name": "stdout",
     "output_type": "stream",
     "text": [
      "'Hello123' ends with an alphanumeric character.\n",
      "'Python2021' ends with an alphanumeric character.\n",
      "'Testing_' does not end with an alphanumeric character.\n",
      "'12345_' does not end with an alphanumeric character.\n",
      "'_Underscore' ends with an alphanumeric character.\n",
      "'Nope!' does not end with an alphanumeric character.\n"
     ]
    }
   ],
   "source": [
    "import re\n",
    "\n",
    "def ends_with_alphanumeric(text):\n",
    "    pattern = r'^.*[A-Za-z0-9]$'\n",
    "    match = re.match(pattern, text)\n",
    "    return bool(match)\n",
    "\n",
    "test_strings = [\"Hello123\", \"Python2021\", \"Testing_\", \"12345_\", \"_Underscore\", \"Nope!\"]\n",
    "\n",
    "for string in test_strings:\n",
    "    if ends_with_alphanumeric(string):\n",
    "        print(f\"'{string}' ends with an alphanumeric character.\")\n",
    "    else:\n",
    "        print(f\"'{string}' does not end with an alphanumeric character.\")"
   ]
  },
  {
   "cell_type": "markdown",
   "id": "b0688817",
   "metadata": {},
   "source": [
    "# Question 27-Write a python program using RegEx to extract the hashtags.\n",
    "\n",
    "Sample Text:  \"\"\"RT @kapil_kausik: #Doltiwal I mean #xyzabc is \"hurt\" by #Demonetization as the same has rendered USELESS <ed><U+00A0><U+00BD><ed><U+00B1><U+0089> \"acquired funds\" No wo\"\"\"\n",
    "\n",
    "    Expected Output: ['#Doltiwal', '#xyzabc', '#Demonetization']\n",
    "\n"
   ]
  },
  {
   "cell_type": "code",
   "execution_count": 30,
   "id": "62e0ce17",
   "metadata": {},
   "outputs": [
    {
     "name": "stdout",
     "output_type": "stream",
     "text": [
      "['#Doltiwal', '#xyzabc', '#Demonetization']\n"
     ]
    }
   ],
   "source": [
    "import re\n",
    "\n",
    "sample_text = \"\"\"RT @kapil_kausik: #Doltiwal I mean #xyzabc is \"hurt\" by #Demonetization as the same has rendered USELESS <ed><U+00A0><U+00BD><ed><U+00B1><U+0089> \"acquired funds\" No wo\"\"\"\n",
    "\n",
    "# Extract hashtags using regular expression\n",
    "hashtags = re.findall(r'#\\w+', sample_text)\n",
    "\n",
    "print(hashtags)"
   ]
  },
  {
   "cell_type": "markdown",
   "id": "dd8d2d94",
   "metadata": {},
   "source": [
    "# Question 28- Write a python program using RegEx to remove <U+..> like symbols\n",
    "\n",
    "Check the below sample text, there are strange symbols something of the sort <U+..> all over the place. You need to come up with a general Regex expression that will cover all such symbols.\n",
    "\n",
    "Sample Text: \"@Jags123456 Bharat band on 28??<ed><U+00A0><U+00BD><ed><U+00B8><U+0082>Those who  are protesting #demonetization  are all different party leaders\"\n",
    "\n",
    "Expected Output: @Jags123456 Bharat band on 28??<ed><ed>Those who  are protesting #demonetization  are all different party leaders\n",
    "    \n"
   ]
  },
  {
   "cell_type": "code",
   "execution_count": 31,
   "id": "35017eec",
   "metadata": {},
   "outputs": [
    {
     "name": "stdout",
     "output_type": "stream",
     "text": [
      "@Jags123456 Bharat band on 28??<ed><ed><ed><ed><ed><ed>Those who  are protesting #demonetization  are all different party leaders\n"
     ]
    }
   ],
   "source": [
    "import re\n",
    "\n",
    "sample_text = \"@Jags123456 Bharat band on 28??<ed><U+00A0><U+00BD><ed><U+00B8><U+0082>Those who  are protesting #demonetization  are all different party leaders\"\n",
    "\n",
    "# Remove <U+..> like symbols using regular expression\n",
    "cleaned_text = re.sub(r'<U\\+\\w+>', '<ed>', sample_text)\n",
    "\n",
    "print(cleaned_text)"
   ]
  },
  {
   "cell_type": "markdown",
   "id": "ce3d467d",
   "metadata": {},
   "source": [
    "# Question 29- Write a python program to extract dates from the text stored in the text file.\n",
    "\n",
    "Sample Text: Ron was born on 12-09-1992 and he was admitted to school 15-12-1999.\n",
    "\n",
    "Note- Store this sample text in the file and then extract dates.\n"
   ]
  },
  {
   "cell_type": "code",
   "execution_count": 51,
   "id": "201860c3",
   "metadata": {},
   "outputs": [],
   "source": [
    "#not solved"
   ]
  },
  {
   "cell_type": "markdown",
   "id": "7de79e86",
   "metadata": {},
   "source": [
    "# Question 30- Create a function in python to remove all words from a string of length between 2 and 4.\n",
    "\n",
    "The use of the re.compile() method is mandatory.\n",
    "\n",
    "Sample Text: \"The following example creates an ArrayList with a capacity of 50 elements. 4 elements are then added to the ArrayList and the ArrayList is trimmed accordingly.\"\n",
    "\n",
    "Expected Output:  following example creates ArrayList a capacity elements. 4 elements added ArrayList ArrayList trimmed accordingly.\n",
    "\n"
   ]
  },
  {
   "cell_type": "code",
   "execution_count": 52,
   "id": "850617ac",
   "metadata": {},
   "outputs": [
    {
     "name": "stdout",
     "output_type": "stream",
     "text": [
      " following example creates  ArrayList  a capacity   elements. 4 elements   added   ArrayList   ArrayList  trimmed accordingly.\n"
     ]
    }
   ],
   "source": [
    "import re\n",
    "\n",
    "def remove_words_between_length(text):\n",
    "    pattern = re.compile(r'\\b\\w{2,4}\\b')\n",
    "    result = pattern.sub('', text)\n",
    "    return result\n",
    "\n",
    "sample_text = \"The following example creates an ArrayList with a capacity of 50 elements. 4 elements are then added to the ArrayList and the ArrayList is trimmed accordingly.\"\n",
    "output = remove_words_between_length(sample_text)\n",
    "print(output)"
   ]
  },
  {
   "cell_type": "code",
   "execution_count": null,
   "id": "a4ee54cd",
   "metadata": {},
   "outputs": [],
   "source": []
  }
 ],
 "metadata": {
  "kernelspec": {
   "display_name": "Python 3 (ipykernel)",
   "language": "python",
   "name": "python3"
  },
  "language_info": {
   "codemirror_mode": {
    "name": "ipython",
    "version": 3
   },
   "file_extension": ".py",
   "mimetype": "text/x-python",
   "name": "python",
   "nbconvert_exporter": "python",
   "pygments_lexer": "ipython3",
   "version": "3.10.9"
  }
 },
 "nbformat": 4,
 "nbformat_minor": 5
}
